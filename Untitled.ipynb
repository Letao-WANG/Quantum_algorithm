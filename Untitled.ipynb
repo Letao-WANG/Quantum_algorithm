{
 "cells": [
  {
   "cell_type": "code",
   "execution_count": 10,
   "id": "61a0f7d7",
   "metadata": {},
   "outputs": [],
   "source": [
    "from qiskit import *\n",
    "from qiskit.quantum_info import Statevector, partial_trace\n",
    "from qiskit.visualization import plot_state_qsphere, plot_histogram\n",
    "\n",
    "import numpy as np\n",
    "import matplotlib.pyplot as plt\n",
    "import scipy.linalg as la\n",
    "\n",
    "from kaleidoscope import bloch_sphere\n",
    "from matplotlib.colors import LinearSegmentedColormap, rgb2hex\n",
    "\n",
    "sim = Aer.get_backend('qasm_simulator')"
   ]
  },
  {
   "cell_type": "code",
   "execution_count": 12,
   "id": "256755f0",
   "metadata": {},
   "outputs": [
    {
     "data": {
      "text/html": [
       "<pre style=\"word-wrap: normal;white-space: pre;background: #fff0;line-height: 1.1;font-family: &quot;Courier New&quot;,Courier,monospace\">                         \n",
       "q_0: ──■──────────────■──\n",
       "     ┌─┴─┐┌────────┐┌─┴─┐\n",
       "q_1: ┤ X ├┤ P(π/9) ├┤ X ├\n",
       "     └───┘└────────┘└───┘</pre>"
      ],
      "text/plain": [
       "                         \n",
       "q_0: ──■──────────────■──\n",
       "     ┌─┴─┐┌────────┐┌─┴─┐\n",
       "q_1: ┤ X ├┤ P(π/9) ├┤ X ├\n",
       "     └───┘└────────┘└───┘"
      ]
     },
     "execution_count": 12,
     "metadata": {},
     "output_type": "execute_result"
    }
   ],
   "source": [
    "h1 = QuantumCircuit(2, name = 'H1')\n",
    "\n",
    "h1.cnot(0, 1)\n",
    "h1.p(np.pi/9, 1)\n",
    "h1.cnot(0, 1)\n",
    "\n",
    "H1 = h1.to_gate()\n",
    "\n",
    "h1.draw()"
   ]
  },
  {
   "cell_type": "code",
   "execution_count": 14,
   "id": "3f19c1db",
   "metadata": {},
   "outputs": [
    {
     "data": {
      "text/html": [
       "<pre style=\"word-wrap: normal;white-space: pre;background: #fff0;line-height: 1.1;font-family: &quot;Courier New&quot;,Courier,monospace\">     ┌───┐                    ┌───┐\n",
       "q_0: ┤ H ├──■──────────────■──┤ H ├\n",
       "     ├───┤┌─┴─┐┌────────┐┌─┴─┐├───┤\n",
       "q_1: ┤ H ├┤ X ├┤ P(π/9) ├┤ X ├┤ H ├\n",
       "     └───┘└───┘└────────┘└───┘└───┘</pre>"
      ],
      "text/plain": [
       "     ┌───┐                    ┌───┐\n",
       "q_0: ┤ H ├──■──────────────■──┤ H ├\n",
       "     ├───┤┌─┴─┐┌────────┐┌─┴─┐├───┤\n",
       "q_1: ┤ H ├┤ X ├┤ P(π/9) ├┤ X ├┤ H ├\n",
       "     └───┘└───┘└────────┘└───┘└───┘"
      ]
     },
     "execution_count": 14,
     "metadata": {},
     "output_type": "execute_result"
    }
   ],
   "source": [
    "h2 = QuantumCircuit(2, name='H2')\n",
    "\n",
    "#### Your code goes here ###\n",
    "\n",
    "\n",
    "h2.h(0)\n",
    "h2.h(1)\n",
    "h2.cnot(0, 1)\n",
    "h2.p(np.pi/9, 1)\n",
    "h2.cnot(0, 1)\n",
    "h2.h(0)\n",
    "h2.h(1)\n",
    "\n",
    "\n",
    "#############################\n",
    "\n",
    "H2 = h2.to_gate()\n",
    "\n",
    "h2.draw()"
   ]
  },
  {
   "cell_type": "code",
   "execution_count": 20,
   "id": "105b40a0",
   "metadata": {},
   "outputs": [
    {
     "data": {
      "text/plain": [
       "[Statevector([0.70710678+0.j, 0.70710678+0.j],\n",
       "             dims=(2,)),\n",
       " Statevector([0.70710678+0.j        , 0.66905641+0.22883077j],\n",
       "             dims=(2,)),\n",
       " Statevector([],\n",
       "             dims=(0,)),\n",
       " Statevector([],\n",
       "             dims=(0,)),\n",
       " Statevector([],\n",
       "             dims=(0,)),\n",
       " Statevector([],\n",
       "             dims=(0,)),\n",
       " Statevector([],\n",
       "             dims=(0,)),\n",
       " Statevector([],\n",
       "             dims=(0,))]"
      ]
     },
     "execution_count": 20,
     "metadata": {},
     "output_type": "execute_result"
    }
   ],
   "source": [
    "from qiskit.quantum_info import Statevector, partial_trace\n",
    "\n",
    "def st_out(qc):\n",
    "    out = Statevector.from_instruction(qc)\n",
    "    out_red = partial_trace(out, [1])\n",
    "    prob, st_all = la.eig(out_red.data)\n",
    "    cond = (prob>0.99) & (prob<1.01)\n",
    "    st = st_all[:, cond].ravel()\n",
    "    \n",
    "    return(st)\n",
    "    \n",
    "myst = []\n",
    "\n",
    "circ = QuantumCircuit(2)\n",
    "circ.h(0)\n",
    "st = st_out(circ)\n",
    "myst.append(Statevector(st))\n",
    "\n",
    "for _ in range(7):\n",
    "    circ.append(H1, range(2))\n",
    "    circ.append(H2, range(2))\n",
    "    st = st_out(circ)\n",
    "    myst.append(Statevector(st))\n",
    "    \n",
    "myst"
   ]
  },
  {
   "cell_type": "code",
   "execution_count": 21,
   "id": "1dae79c8",
   "metadata": {},
   "outputs": [
    {
     "data": {
      "text/html": [
       "<pre style=\"word-wrap: normal;white-space: pre;background: #fff0;line-height: 1.1;font-family: &quot;Courier New&quot;,Courier,monospace\">     ┌───┐┌─────┐┌─────┐┌─────┐┌─────┐┌─────┐┌─────┐┌─────┐┌─────┐┌─────┐»\n",
       "q_0: ┤ H ├┤0    ├┤0    ├┤0    ├┤0    ├┤0    ├┤0    ├┤0    ├┤0    ├┤0    ├»\n",
       "     └───┘│  H1 ││  H2 ││  H1 ││  H2 ││  H1 ││  H2 ││  H1 ││  H2 ││  H1 │»\n",
       "q_1: ─────┤1    ├┤1    ├┤1    ├┤1    ├┤1    ├┤1    ├┤1    ├┤1    ├┤1    ├»\n",
       "          └─────┘└─────┘└─────┘└─────┘└─────┘└─────┘└─────┘└─────┘└─────┘»\n",
       "«     ┌─────┐┌─────┐┌─────┐┌─────┐┌─────┐\n",
       "«q_0: ┤0    ├┤0    ├┤0    ├┤0    ├┤0    ├\n",
       "«     │  H2 ││  H1 ││  H2 ││  H1 ││  H2 │\n",
       "«q_1: ┤1    ├┤1    ├┤1    ├┤1    ├┤1    ├\n",
       "«     └─────┘└─────┘└─────┘└─────┘└─────┘</pre>"
      ],
      "text/plain": [
       "     ┌───┐┌─────┐┌─────┐┌─────┐┌─────┐┌─────┐┌─────┐┌─────┐┌─────┐┌─────┐»\n",
       "q_0: ┤ H ├┤0    ├┤0    ├┤0    ├┤0    ├┤0    ├┤0    ├┤0    ├┤0    ├┤0    ├»\n",
       "     └───┘│  H1 ││  H2 ││  H1 ││  H2 ││  H1 ││  H2 ││  H1 ││  H2 ││  H1 │»\n",
       "q_1: ─────┤1    ├┤1    ├┤1    ├┤1    ├┤1    ├┤1    ├┤1    ├┤1    ├┤1    ├»\n",
       "          └─────┘└─────┘└─────┘└─────┘└─────┘└─────┘└─────┘└─────┘└─────┘»\n",
       "«     ┌─────┐┌─────┐┌─────┐┌─────┐┌─────┐\n",
       "«q_0: ┤0    ├┤0    ├┤0    ├┤0    ├┤0    ├\n",
       "«     │  H2 ││  H1 ││  H2 ││  H1 ││  H2 │\n",
       "«q_1: ┤1    ├┤1    ├┤1    ├┤1    ├┤1    ├\n",
       "«     └─────┘└─────┘└─────┘└─────┘└─────┘"
      ]
     },
     "execution_count": 21,
     "metadata": {},
     "output_type": "execute_result"
    }
   ],
   "source": [
    "circ.draw()"
   ]
  },
  {
   "cell_type": "code",
   "execution_count": 17,
   "id": "4adf49c2",
   "metadata": {},
   "outputs": [
    {
     "name": "stderr",
     "output_type": "stream",
     "text": [
      "/Users/letao/anaconda3/lib/python3.10/site-packages/kaleidoscope/interactive/bloch/utils.py:116: RuntimeWarning:\n",
      "\n",
      "divide by zero encountered in log2\n",
      "\n"
     ]
    },
    {
     "ename": "ValueError",
     "evalue": "Invalid input state.",
     "output_type": "error",
     "traceback": [
      "\u001b[0;31m---------------------------------------------------------------------------\u001b[0m",
      "\u001b[0;31mValueError\u001b[0m                                Traceback (most recent call last)",
      "Cell \u001b[0;32mIn[17], line 3\u001b[0m\n\u001b[1;32m      1\u001b[0m cm \u001b[38;5;241m=\u001b[39m LinearSegmentedColormap\u001b[38;5;241m.\u001b[39mfrom_list(\u001b[38;5;124m'\u001b[39m\u001b[38;5;124mgraypurple\u001b[39m\u001b[38;5;124m'\u001b[39m, [\u001b[38;5;124m\"\u001b[39m\u001b[38;5;124m#999999\u001b[39m\u001b[38;5;124m\"\u001b[39m, \u001b[38;5;124m\"\u001b[39m\u001b[38;5;124m#AA00FF\u001b[39m\u001b[38;5;124m\"\u001b[39m])\n\u001b[1;32m      2\u001b[0m vectors_color \u001b[38;5;241m=\u001b[39m [rgb2hex(cm(kk)) \u001b[38;5;28;01mfor\u001b[39;00m kk \u001b[38;5;129;01min\u001b[39;00m np\u001b[38;5;241m.\u001b[39mlinspace(\u001b[38;5;241m-\u001b[39m\u001b[38;5;241m1\u001b[39m,\u001b[38;5;241m1\u001b[39m,\u001b[38;5;28mlen\u001b[39m(myst))]\n\u001b[0;32m----> 3\u001b[0m \u001b[43mbloch_sphere\u001b[49m\u001b[43m(\u001b[49m\u001b[43mmyst\u001b[49m\u001b[43m,\u001b[49m\u001b[43m \u001b[49m\u001b[43mvectors_color\u001b[49m\u001b[43m \u001b[49m\u001b[38;5;241;43m=\u001b[39;49m\u001b[43m \u001b[49m\u001b[43mvectors_color\u001b[49m\u001b[43m)\u001b[49m\n",
      "File \u001b[0;32m~/anaconda3/lib/python3.10/site-packages/kaleidoscope/interactive/bloch/bloch3d.py:181\u001b[0m, in \u001b[0;36mbloch_sphere\u001b[0;34m(vectors, vectors_color, vectors_alpha, vectors_annotation, points, points_color, points_alpha, figsize, label_fontsize, annotation_fontsize, as_widget)\u001b[0m\n\u001b[1;32m    178\u001b[0m \u001b[38;5;28;01mfor\u001b[39;00m vec \u001b[38;5;129;01min\u001b[39;00m vectors:\n\u001b[1;32m    179\u001b[0m     \u001b[38;5;28;01mif\u001b[39;00m vec\u001b[38;5;241m.\u001b[39m\u001b[38;5;18m__class__\u001b[39m\u001b[38;5;241m.\u001b[39m\u001b[38;5;18m__name__\u001b[39m \u001b[38;5;129;01min\u001b[39;00m [\u001b[38;5;124m'\u001b[39m\u001b[38;5;124mStatevector\u001b[39m\u001b[38;5;124m'\u001b[39m] \u001b[38;5;129;01mand\u001b[39;00m \u001b[38;5;124m'\u001b[39m\u001b[38;5;124mqiskit\u001b[39m\u001b[38;5;124m'\u001b[39m \u001b[38;5;129;01min\u001b[39;00m vec\u001b[38;5;241m.\u001b[39m\u001b[38;5;18m__class__\u001b[39m\u001b[38;5;241m.\u001b[39m\u001b[38;5;18m__module__\u001b[39m:\n\u001b[1;32m    180\u001b[0m         \u001b[38;5;66;03m# pylint: disable=no-member\u001b[39;00m\n\u001b[0;32m--> 181\u001b[0m         new_vecs\u001b[38;5;241m.\u001b[39mappend(\u001b[43mbloch_components\u001b[49m\u001b[43m(\u001b[49m\u001b[43mvec\u001b[49m\u001b[38;5;241;43m.\u001b[39;49m\u001b[43mdata\u001b[49m\u001b[43m)\u001b[49m[\u001b[38;5;241m0\u001b[39m])\n\u001b[1;32m    182\u001b[0m     \u001b[38;5;28;01melse\u001b[39;00m:\n\u001b[1;32m    183\u001b[0m         nst_lvl \u001b[38;5;241m=\u001b[39m nest_level(vec)\n",
      "File \u001b[0;32m~/anaconda3/lib/python3.10/site-packages/kaleidoscope/interactive/bloch/utils.py:118\u001b[0m, in \u001b[0;36mbloch_components\u001b[0;34m(rho)\u001b[0m\n\u001b[1;32m    116\u001b[0m num \u001b[38;5;241m=\u001b[39m np\u001b[38;5;241m.\u001b[39mlog2(rho\u001b[38;5;241m.\u001b[39mshape[\u001b[38;5;241m0\u001b[39m])\n\u001b[1;32m    117\u001b[0m \u001b[38;5;28;01mif\u001b[39;00m num \u001b[38;5;241m%\u001b[39m \u001b[38;5;241m1\u001b[39m:\n\u001b[0;32m--> 118\u001b[0m     \u001b[38;5;28;01mraise\u001b[39;00m dim_error\n\u001b[1;32m    119\u001b[0m \u001b[38;5;28;01mif\u001b[39;00m \u001b[38;5;28mlen\u001b[39m(rho\u001b[38;5;241m.\u001b[39mshape) \u001b[38;5;241m==\u001b[39m \u001b[38;5;241m2\u001b[39m:\n\u001b[1;32m    120\u001b[0m     \u001b[38;5;28;01mif\u001b[39;00m np\u001b[38;5;241m.\u001b[39mlog2(rho\u001b[38;5;241m.\u001b[39mshape[\u001b[38;5;241m1\u001b[39m]) \u001b[38;5;241m%\u001b[39m \u001b[38;5;241m1\u001b[39m:\n",
      "\u001b[0;31mValueError\u001b[0m: Invalid input state."
     ]
    }
   ],
   "source": [
    "cm = LinearSegmentedColormap.from_list('graypurple', [\"#999999\", \"#AA00FF\"])\n",
    "vectors_color = [rgb2hex(cm(kk)) for kk in np.linspace(-1,1,len(myst))]\n",
    "bloch_sphere(myst, vectors_color = vectors_color)"
   ]
  },
  {
   "cell_type": "code",
   "execution_count": 29,
   "id": "f6b57a6c",
   "metadata": {},
   "outputs": [
    {
     "name": "stdout",
     "output_type": "stream",
     "text": [
      "$$\\begin{pmatrix}\n",
      "1 & 2\\\\\n",
      "3 & 4\\\\\n",
      "\\end{pmatrix}$$\n"
     ]
    }
   ],
   "source": [
    "matrix = [[1, 2], [3, 4]]\n",
    "print(r\"$$\\begin{pmatrix}\")\n",
    "for row in matrix:\n",
    "    print(\" & \".join(str(x) for x in row) + r\"\\\\\")\n",
    "print(r\"\\end{pmatrix}$$\")"
   ]
  },
  {
   "cell_type": "code",
   "execution_count": null,
   "id": "70e53774",
   "metadata": {},
   "outputs": [],
   "source": []
  }
 ],
 "metadata": {
  "kernelspec": {
   "display_name": "Python 3 (ipykernel)",
   "language": "python",
   "name": "python3"
  },
  "language_info": {
   "codemirror_mode": {
    "name": "ipython",
    "version": 3
   },
   "file_extension": ".py",
   "mimetype": "text/x-python",
   "name": "python",
   "nbconvert_exporter": "python",
   "pygments_lexer": "ipython3",
   "version": "3.10.9"
  }
 },
 "nbformat": 4,
 "nbformat_minor": 5
}
