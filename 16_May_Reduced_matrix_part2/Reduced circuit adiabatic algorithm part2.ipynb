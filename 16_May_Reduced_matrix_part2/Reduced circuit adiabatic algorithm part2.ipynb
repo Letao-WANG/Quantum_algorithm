{
 "cells": [
  {
   "cell_type": "code",
   "execution_count": 1,
   "id": "7f0088e1",
   "metadata": {},
   "outputs": [],
   "source": [
    "import numpy as np\n",
    "import matplotlib.pyplot as plt\n",
    "from qiskit import QuantumCircuit\n",
    "import scipy.linalg as la\n",
    "\n",
    "from scipy.linalg import expm\n",
    "from qiskit.quantum_info import Statevector, partial_trace, Operator, DensityMatrix\n",
    "from qiskit.visualization import plot_state_qsphere, plot_histogram, plot_bloch_multivector\n",
    "\n",
    "np.set_printoptions(precision=3)"
   ]
  },
  {
   "cell_type": "code",
   "execution_count": 219,
   "id": "7c8cc36f",
   "metadata": {},
   "outputs": [],
   "source": [
    "def init_hamiltonian(N):\n",
    "    \"\"\"The uniform matrix\"\"\"\n",
    "    v = np.ones((N,1))*(1/np.sqrt(N))\n",
    "    return np.matmul(v, v.T.conj())\n",
    "\n",
    "def init_vector(N):\n",
    "    return np.ones((N,1))*(1/np.sqrt(N))\n",
    "    \n",
    "def problem_vector(N):\n",
    "    pv = np.zeros((N,1))\n",
    "    pv[N-1] = 1\n",
    "    return pv\n",
    "    \n",
    "def problem_hamiltonian(N):\n",
    "    pv = problem_vector(N)\n",
    "    return np.matmul(pv, pv.T.conj())\n",
    "\n",
    "def H_op(delt, n, H):\n",
    "    \"\"\"\n",
    "    Input:\n",
    "        delt: time interval\n",
    "        n: number of qubits\n",
    "        H: Hamiltonian matrix\n",
    "    return Operator exp(-itH)\n",
    "    \"\"\"\n",
    "    H = H*(-1j*delt)\n",
    "    exp_H = expm(H)\n",
    "    h = QuantumCircuit(n, name = 'H_op')\n",
    "    h.unitary(exp_H, range(n))\n",
    "    return h.to_gate()\n",
    "\n",
    "def f(t, epsilon, N):\n",
    "    \"\"\"\n",
    "    Time evolve function\n",
    "    Input:\n",
    "        t: time point\n",
    "        epsilon: error value\n",
    "        N: 2**n\n",
    "    return value from 0 to 1\n",
    "    \"\"\"\n",
    "    arg = ((2*epsilon*np.sqrt(N-1)*t)/N - np.arctan(np.sqrt(N-1)))\n",
    "    num = np.tan(arg) / np.sqrt(N-1)\n",
    "    den = 1 + num\n",
    "    result = 0.5 * den\n",
    "    return result\n",
    "\n",
    "def getT(epsilon, N):\n",
    "    t1 = 1/(2*epsilon)\n",
    "    t2 = N/np.sqrt(N-1)\n",
    "    t3 = np.arctan((np.sqrt(N-1)))+np.arctan(np.sqrt(N-1))\n",
    "    return t1*t2*t3\n",
    "\n",
    "def getR(epsilon, N):\n",
    "    \"\"\"get the total iteration R\"\"\"\n",
    "    return (int)(np.sqrt(N)/(epsilon**3))\n",
    "\n",
    "def get_state(qc):\n",
    "    m = DensityMatrix(qc)\n",
    "    v = m.to_statevector()\n",
    "    return v\n",
    "    \n",
    "def getEpsilon1(final_vector, m):\n",
    "    \"\"\"\n",
    "    get the epsilon of the result, should lower than the theoretical epsilon\n",
    "\n",
    "    \"\"\"\n",
    "    distance_vector = final_vector.copy()\n",
    "    distance_vector[m-1] -= 1\n",
    "    values = np.matmul(distance_vector.conj().T,distance_vector)\n",
    "    return np.sqrt(values)\n",
    "\n",
    "def getEpsilon2(v1, v2):\n",
    "    \"\"\"return from 0 to 1\"\"\"\n",
    "    res = np.matmul(v1.T.conj(), v2)\n",
    "    return (1-(abs(res))**2)[0]\n",
    "\n",
    "def get_eH(a, delt, f):\n",
    "    H = np.array([[f, (f-1)*a],\n",
    "                       [-f*a, 1-f]], dtype=complex)\n",
    "    m = H*(-1j*delt)\n",
    "    exp_H = expm(m)\n",
    "    return exp_H\n",
    "\n",
    "def get_norm(v):\n",
    "    return np.sqrt(np.matmul(v.T.conj(), v))\n",
    "\n",
    "def normalize_vector(v):\n",
    "    n = get_norm(v)\n",
    "    v = v/n\n",
    "    return v\n",
    "\n",
    "def get_reduced_matrix_eH(a, delt, T):\n",
    "    H = get_eH(a, delt, 0) + get_eH(a, delt, 1)\n",
    "    m = H*(-1j*T)\n",
    "    exp_H = expm(m)\n",
    "    return exp_H"
   ]
  },
  {
   "cell_type": "code",
   "execution_count": null,
   "id": "1b2b76f6",
   "metadata": {},
   "outputs": [],
   "source": []
  },
  {
   "cell_type": "markdown",
   "id": "a662d7e8",
   "metadata": {},
   "source": [
    "## Compare two ways to express the error"
   ]
  },
  {
   "cell_type": "code",
   "execution_count": 230,
   "id": "83385f6a",
   "metadata": {},
   "outputs": [
    {
     "name": "stdout",
     "output_type": "stream",
     "text": [
      "Total time T: 8.061330507707638\n",
      "Total iteration R: 74\n",
      "State: [-0.147-0.056j -0.147-0.056j -0.147-0.056j  0.962+0.j   ]\n",
      "E1: (0.27492101691425364+0j)\n",
      "E2: 0.07415342227875388\n",
      "[(0.25+0j), (0.2500028809370377+0j), (0.2500000084715728+0j), (0.25000012362469837+0j), (0.25000070540284014+0j), (0.2500025777476038+0j), (0.2500072149455539+0j), (0.25001688356691454+0j), (0.2500347240744123+0j), (0.2500647656039573+0j), (0.2501118746400067+0j), (0.25018164373727125+0j), (0.25028023025221435+0j), (0.2504141573547799+0j), (0.2505900905314221+0j), (0.25081460256219223+0j), (0.25109393880984754+0j), (0.25143379288024337+0j), (0.25183910058210335+0j), (0.25231385788192295+0j), (0.2528609664178334+0j), (0.2534821082471853+0j), (0.2541776499403978+0j), (0.2549465749312795+0j), (0.2557864421851479+0j), (0.25669336871734105+0j), (0.25766203323748027+0j), (0.25868569815468156+0j), (0.2597562473023248+0j), (0.26086423697996997+0j), (0.2619989582242743+0j), (0.2631485085785342+0j), (0.26429987200824145+0j), (0.2654390059916385+0j), (0.26655093518970663+0j), (0.26761985146429756+0j), (0.2686292203649917+0j), (0.26956189454626567+0j), (0.2704002349100667+0j), (0.27112624059949975+0j), (0.27172168930207374+0j), (0.2721682896607158+0j), (0.2724478479416106+0j), (0.2725424514723018+0j), (0.2724346717408356+0j), (0.2721077904321768+0j), (0.27154605205979343+0j), (0.2707349472059968+0j), (0.26966153067692267+0j), (0.26831477904714107+0j), (0.2666859920231184+0j), (0.2647692416572518+0j), (0.2625618724962032+0j), (0.2600650539666539+0j), (0.25728438330005116+0j), (0.25423053255799893+0j), (0.25091992618457903+0j), (0.24737542520134098+0j), (0.24362697985064152+0j), (0.23971219350197664+0j), (0.23567671678969765+0j), (0.23157436319522307+0j), (0.22746680858374807+0j), (0.22342271360839916+0j), (0.21951609943151096+0j), (0.21582382774610714+0j), (0.21242210088134095+0j), (0.2093820175522147+0j), (0.20676439120661833+0j), (0.20461423349920987+0j), (0.20295547007144532+0j), (0.2017865176650786+0j), (0.20107724964935914+0j), (0.20076759463549976+0j)]\n"
     ]
    },
    {
     "data": {
      "image/png": "[encoded data removed]",
      "text/plain": [
       "<Figure size 432x288 with 1 Axes>"
      ]
     },
     "metadata": {
      "needs_background": "light"
     },
     "output_type": "display_data"
    }
   ],
   "source": [
    "n = 2\n",
    "N = 2**n\n",
    "epsilon = 0.3\n",
    "\n",
    "rs = []\n",
    "es1 = []\n",
    "es2 = []\n",
    "\n",
    "T = getT(epsilon, N)\n",
    "R = getR(epsilon, N)\n",
    "\n",
    "circ = QuantumCircuit(n)\n",
    "circ.h(range(n))\n",
    "\n",
    "for r in range(0, R):\n",
    "    t = r*(T/R)\n",
    "    H0 = np.identity(N) - init_hamiltonian(N)\n",
    "    Hp = np.identity(N) - problem_hamiltonian(N)\n",
    "    circ.append(H_op(T/R,n,(1-f(t,epsilon,N))*H0), range(n))\n",
    "    circ.append(H_op(T/R,n,f(t,epsilon,N)*Hp), range(n))\n",
    "\n",
    "    rs.append(r)\n",
    "    state = get_state(circ)\n",
    "    es1.append(getEpsilon1(state.data, N))\n",
    "    es2.append(getEpsilon2(state.data, problem_vector(N)))\n",
    "\n",
    "\n",
    "print(\"Total time T: \" +str(T))\n",
    "print(\"Total iteration R: \" +str(R))\n",
    "print(\"State: \" +str(state.data))\n",
    "print(\"E1: \" + str(getEpsilon1(state.data, N)))\n",
    "print(\"E2: \" + str(getEpsilon2(state.data, problem_vector(N))))\n",
    "\n",
    "# plt.plot(rs, es1, label=\"|||psi⟩-|m⟩||\")\n",
    "# plt.plot(rs, es2, label=\"1-||⟨m|psi⟩^2||\")\n",
    "# plt.plot(rs, es1-es2)\n",
    "# plt.xlabel(\"r\")\n",
    "# plt.ylabel(\"error\")\n",
    "# plt.legend()\n",
    "\n",
    "ess = []\n",
    "for i in range(len(rs)):\n",
    "    ess.append(es1[i]-es2[i])\n",
    "plt.plot(rs, ess)\n",
    "print(ess)\n",
    "# plot_state_qsphere(Statevector(circ))"
   ]
  },
  {
   "cell_type": "markdown",
   "id": "3b7d4e2c",
   "metadata": {},
   "source": [
    "## Simulate reduced matrix adiabatic e^H"
   ]
  },
  {
   "cell_type": "code",
   "execution_count": 218,
   "id": "25e9a0e1",
   "metadata": {},
   "outputs": [
    {
     "name": "stdout",
     "output_type": "stream",
     "text": [
      "Total time T: 13.61344425034588\n",
      "Total iteration R: 62\n",
      "State: [[ 0.678-0.351j]\n",
      " [-0.57 +0.306j]]\n",
      "E1: [[1.772+0.j]]\n",
      "E2: [0.582]\n"
     ]
    },
    {
     "data": {
      "text/plain": [
       "<matplotlib.legend.Legend at 0x1a2c20b50>"
      ]
     },
     "execution_count": 218,
     "metadata": {},
     "output_type": "execute_result"
    },
    {
     "data": {
      "image/png": "[encoded data removed]",
      "text/plain": [
       "<Figure size 432x288 with 1 Axes>"
      ]
     },
     "metadata": {
      "needs_background": "light"
     },
     "output_type": "display_data"
    }
   ],
   "source": [
    "n = 4\n",
    "N = 2**n\n",
    "epsilon = 0.4\n",
    "\n",
    "rs = []\n",
    "states = []\n",
    "es1 = []\n",
    "es2 = []\n",
    "ns = []\n",
    "\n",
    "T = getT(epsilon, N)\n",
    "R = getR(epsilon, N)\n",
    "a = 1/np.sqrt(N)\n",
    "delt = T/R\n",
    "state = init_vector(2)\n",
    "\n",
    "for r in range(0, R):\n",
    "    t = r*(T/R)\n",
    "    op = get_eH(a, delt, f(t,epsilon,N))\n",
    "    state = np.dot(op, state)\n",
    "    state = normalize_vector(state)\n",
    "    \n",
    "    rs.append(r)\n",
    "    states.append(state)\n",
    "    es1.append(getEpsilon1(state, 2)[0][0])\n",
    "    es2.append(getEpsilon2(state, problem_vector(2))[0])\n",
    "    ns.append(get_norm(state)[0][0])\n",
    "\n",
    "\n",
    "print(\"Total time T: \" +str(T))\n",
    "print(\"Total iteration R: \" +str(R))\n",
    "print(\"State: \" +str(state))\n",
    "print(\"E1: \" + str(getEpsilon1(state, 2)))\n",
    "print(\"E2: \" + str(getEpsilon2(state, problem_vector(2))))\n",
    "\n",
    "\n",
    "plt.plot(rs, es1, label=\"|||psi⟩-|m⟩||\")\n",
    "plt.plot(rs, es2, label=\"1-||⟨m|psi⟩^2||\")\n",
    "plt.xlabel(\"r\")\n",
    "plt.ylabel(\"error\")\n",
    "plt.legend()\n"
   ]
  },
  {
   "cell_type": "code",
   "execution_count": 192,
   "id": "1cb4b4c2",
   "metadata": {},
   "outputs": [
    {
     "data": {
      "text/plain": [
       "[<matplotlib.lines.Line2D at 0x1a27c3e90>]"
      ]
     },
     "execution_count": 192,
     "metadata": {},
     "output_type": "execute_result"
    },
    {
     "data": {
      "image/png": "[encoded data removed]",
      "text/plain": [
       "<Figure size 432x288 with 1 Axes>"
      ]
     },
     "metadata": {
      "needs_background": "light"
     },
     "output_type": "display_data"
    }
   ],
   "source": [
    "    # print(ns)\n",
    "plt.plot(rs, ns)"
   ]
  },
  {
   "cell_type": "markdown",
   "id": "64c346e2",
   "metadata": {},
   "source": [
    "## Simulate reduced matrix e^H"
   ]
  },
  {
   "cell_type": "code",
   "execution_count": 220,
   "id": "8ca06ffa",
   "metadata": {},
   "outputs": [
    {
     "name": "stdout",
     "output_type": "stream",
     "text": [
      "State: [[-0.178+0.638j]\n",
      " [-0.178+0.638j]]\n",
      "E1: [[1.495+0.j]]\n",
      "E2: [0.561]\n"
     ]
    }
   ],
   "source": [
    "n = 1\n",
    "N = 2**n\n",
    "\n",
    "a = 1/np.sqrt(N)\n",
    "T = np.pi/(2*a)\n",
    "R = getR(epsilon, N)\n",
    "delt = T/R\n",
    "state = init_vector(2)\n",
    "\n",
    "op = get_reduced_matrix_eH(a, delt, T)\n",
    "state = np.dot(op, state)\n",
    "\n",
    "print(\"State: \" +str(state))\n",
    "print(\"E1: \" + str(getEpsilon1(state, 2)))\n",
    "print(\"E2: \" + str(getEpsilon2(state, problem_vector(2))))"
   ]
  }
 ],
 "metadata": {
  "kernelspec": {
   "display_name": "env0",
   "language": "python",
   "name": "env0"
  },
  "language_info": {
   "codemirror_mode": {
    "name": "ipython",
    "version": 3
   },
   "file_extension": ".py",
   "mimetype": "text/x-python",
   "name": "python",
   "nbconvert_exporter": "python",
   "pygments_lexer": "ipython3",
   "version": "3.11.0"
  }
 },
 "nbformat": 4,
 "nbformat_minor": 5
}
