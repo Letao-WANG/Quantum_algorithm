{
 "cells": [
  {
   "cell_type": "code",
   "execution_count": 245,
   "id": "7f0088e1",
   "metadata": {},
   "outputs": [],
   "source": [
    "import numpy as np\n",
    "import matplotlib.pyplot as plt\n",
    "from qiskit import QuantumCircuit\n",
    "import scipy.linalg as la\n",
    "\n",
    "from scipy.linalg import expm\n",
    "from qiskit.quantum_info import Statevector, partial_trace, Operator, DensityMatrix\n",
    "from qiskit.visualization import plot_state_qsphere, plot_histogram, plot_bloch_multivector\n",
    "\n",
    "np.set_printoptions(precision=3)"
   ]
  },
  {
   "cell_type": "code",
   "execution_count": 323,
   "id": "7c8cc36f",
   "metadata": {},
   "outputs": [],
   "source": [
    "import numpy as np\n",
    "import matplotlib.pyplot as plt\n",
    "from qiskit import QuantumCircuit\n",
    "import scipy.linalg as la\n",
    "\n",
    "from scipy.linalg import expm\n",
    "from qiskit.quantum_info import Statevector, partial_trace, Operator, DensityMatrix\n",
    "from qiskit.visualization import plot_state_qsphere, plot_histogram, plot_bloch_multivector\n",
    "\n",
    "np.set_printoptions(precision=3)\n",
    "\n",
    "\n",
    "def get_H0(N):\n",
    "    \"\"\"The uniform matrix\"\"\"\n",
    "    v = get_v0(N)\n",
    "    return np.matmul(v, v.T.conj())\n",
    "\n",
    "def get_H0_r(N):\n",
    "    m = np.matrix([[1/N, np.sqrt(N-1)/N],\n",
    "                  [np.sqrt(N-1)/N, (N-1)/N]], dtype=complex)\n",
    "    return m\n",
    "\n",
    "def get_v0(N):\n",
    "    return np.ones((N,1))*(1/np.sqrt(N))\n",
    "    \n",
    "def get_vp(N):\n",
    "    pv = np.zeros((N,1))\n",
    "    pv[N-1] = 1\n",
    "    return pv\n",
    "    \n",
    "def get_vp2(N):\n",
    "    pv = np.zeros((N,1))\n",
    "    pv[0] = 1\n",
    "    return pv\n",
    "\n",
    "def get_Hp(N):\n",
    "    pv = get_vp(N)\n",
    "    return np.matmul(pv, pv.T.conj())\n",
    "\n",
    "def get_Hp_r():\n",
    "    m = np.matrix([[1, 0],\n",
    "                  [0, 0]])\n",
    "    return m\n",
    "\n",
    "def get_H_op(delt, n, H):\n",
    "    \"\"\"\n",
    "    Input:\n",
    "        delt: time interval\n",
    "        n: number of qubits\n",
    "        H: Hamiltonian matrix\n",
    "    return Operator exp(-itH)\n",
    "    \"\"\"\n",
    "    H = H*(-1j*delt)\n",
    "    exp_H = expm(H)\n",
    "    h = QuantumCircuit(n, name = 'H_op')\n",
    "    h.unitary(exp_H, range(n))\n",
    "    return h.to_gate()\n",
    "\n",
    "def get_f(t, epsilon, N):\n",
    "    \"\"\"\n",
    "    Time evolve function\n",
    "    Input:\n",
    "        t: time point\n",
    "        epsilon: error value\n",
    "        N: 2**n\n",
    "    return value from 0 to 1\n",
    "    \"\"\"\n",
    "    arg = ((2*epsilon*np.sqrt(N-1)*t)/N - np.arctan(np.sqrt(N-1)))\n",
    "    num = np.tan(arg) / np.sqrt(N-1)\n",
    "    den = 1 + num\n",
    "    result = 0.5 * den\n",
    "    return result\n",
    "\n",
    "def get_adiabatic_T(epsilon, N):\n",
    "    t1 = 1/(2*epsilon)\n",
    "    t2 = N/np.sqrt(N-1)\n",
    "    t3 = np.arctan((np.sqrt(N-1)))+np.arctan(np.sqrt(N-1))\n",
    "    return t1*t2*t3\n",
    "\n",
    "def get_simulation_T(a):\n",
    "    return np.pi/(2*a)\n",
    "\n",
    "def get_R(epsilon, N):\n",
    "    \"\"\"get the total iteration R\"\"\"\n",
    "    return (int)(np.sqrt(N)/(epsilon**3))\n",
    "\n",
    "def get_state(qc):\n",
    "    m = DensityMatrix(qc)\n",
    "    v = m.to_statevector()\n",
    "    return v\n",
    "    \n",
    "def get_Epsilon1(final_vector, marked_vector):\n",
    "    \"\"\"\n",
    "    get the epsilon of the result, should lower than the theoretical epsilon\n",
    "\n",
    "    \"\"\"\n",
    "    distance_vector = final_vector.copy() - marked_vector.copy()\n",
    "    values = np.matmul(distance_vector.conj().T,distance_vector)\n",
    "    return np.sqrt(values)\n",
    "\n",
    "def get_Epsilon2(v1, v2):\n",
    "    \"\"\"return from 0 to 1\"\"\"\n",
    "    res = np.matmul(v1.T.conj(), v2)\n",
    "    return (1-abs(res)**2)[0]\n",
    "\n",
    "def get_eH(t, H):\n",
    "    m = H*(-1j*t)\n",
    "    exp_H = expm(m)\n",
    "    return exp_H\n",
    "\n",
    "def get_norm(v):\n",
    "    return np.sqrt(np.matmul(v.T.conj(), v))\n",
    "\n",
    "def normalize_vector(v):\n",
    "    n = get_norm(v)\n",
    "    v = v/n\n",
    "    return v"
   ]
  },
  {
   "cell_type": "markdown",
   "id": "a662d7e8",
   "metadata": {},
   "source": [
    "## Compare two ways to express the error"
   ]
  },
  {
   "cell_type": "code",
   "execution_count": 293,
   "id": "83385f6a",
   "metadata": {},
   "outputs": [
    {
     "name": "stdout",
     "output_type": "stream",
     "text": [
      "Total time T: 4.836798304624582\n",
      "Total iteration R: 16\n",
      "State: [-0.089-0.352j -0.089-0.352j -0.089-0.352j  0.778+0.j   ]\n",
      "E1: (0.6667765783138989+0j)\n",
      "E2: [0.395]\n",
      "[(0.7653668647301795-2.6822323059935534e-18j), (0.7653668647301795+0j), (0.7623112987096292+0j), (0.754928788066416+0j), (0.7428850966850904+0j), (0.7263897655993636+0j), (0.7059596291026697+0j), (0.6822655883969307+0j), (0.6560453390314438+0j), (0.6280735888776753+0j), (0.5991817384568694+0j), (0.5703222179706695+0j), (0.5426786345851032+0j), (0.5178272660404558+0j), (0.4979491969928647+0j), (0.48605440726895643+0j)]\n"
     ]
    },
    {
     "data": {
      "image/png": "[encoded data removed]",
      "text/plain": [
       "<Figure size 432x288 with 1 Axes>"
      ]
     },
     "metadata": {
      "needs_background": "light"
     },
     "output_type": "display_data"
    }
   ],
   "source": [
    "n = 2\n",
    "N = 2**n\n",
    "epsilon = 0.5\n",
    "\n",
    "rs = []\n",
    "es1 = []\n",
    "es2 = []\n",
    "es2p = []\n",
    "\n",
    "T = getT(epsilon, N)\n",
    "R = getR(epsilon, N)\n",
    "\n",
    "circ = QuantumCircuit(n)\n",
    "circ.h(range(n))\n",
    "\n",
    "for r in range(0, R):\n",
    "    t = r*(T/R)\n",
    "    H0 = np.identity(N) - init_hamiltonian(N)\n",
    "    Hp = np.identity(N) - problem_hamiltonian(N)\n",
    "    circ.append(H_op(T/R,n,(1-f(t,epsilon,N))*H0), range(n))\n",
    "    circ.append(H_op(T/R,n,f(t,epsilon,N)*Hp), range(n))\n",
    "\n",
    "    rs.append(r)\n",
    "    state = get_state(circ)\n",
    "    v = trans(state.data, N)\n",
    "    vp = problem_vector(N)\n",
    "    e1 = get_Epsilon1(v, vp)\n",
    "    e2 = get_Epsilon2(v, vp)\n",
    "    \n",
    "    es1.append(e1)\n",
    "    es2.append(e2)\n",
    "    es2p.append(np.sqrt(np.kron(v-vp))\n",
    "#     es2p.append(np.sqrt(2-2*np.sqrt(inner_product(v, vp))))\n",
    "\n",
    "\n",
    "print(\"Total time T: \" +str(T))\n",
    "print(\"Total iteration R: \" +str(R))\n",
    "print(\"State: \" +str(state.data))\n",
    "print(\"E1: \" + str(get_Epsilon1(trans(state.data, N), problem_vector(N))))\n",
    "print(\"E2: \" + str(get_Epsilon2(trans(state.data, N), problem_vector(N))))\n",
    "\n",
    "plt.plot(rs, es1, label=\"|||psi⟩-|m⟩||\")\n",
    "plt.plot(rs, es2, label=\"1-||⟨m|psi⟩^2||\")\n",
    "plt.plot(rs, es2p, label=\"esp2\")\n",
    "plt.xlabel(\"r\")\n",
    "plt.ylabel(\"error\")\n",
    "plt.legend()\n",
    "\n",
    "print(es2p)"
   ]
  },
  {
   "cell_type": "markdown",
   "id": "3b7d4e2c",
   "metadata": {},
   "source": [
    "## Simulate reduced matrix adiabatic e^H"
   ]
  },
  {
   "cell_type": "code",
   "execution_count": 218,
   "id": "25e9a0e1",
   "metadata": {},
   "outputs": [
    {
     "name": "stdout",
     "output_type": "stream",
     "text": [
      "Total time T: 13.61344425034588\n",
      "Total iteration R: 62\n",
      "State: [[ 0.678-0.351j]\n",
      " [-0.57 +0.306j]]\n",
      "E1: [[1.772+0.j]]\n",
      "E2: [0.582]\n"
     ]
    },
    {
     "data": {
      "text/plain": [
       "<matplotlib.legend.Legend at 0x1a2c20b50>"
      ]
     },
     "execution_count": 218,
     "metadata": {},
     "output_type": "execute_result"
    },
    {
     "data": {
      "image/png": "[encoded data removed]",
      "text/plain": [
       "<Figure size 432x288 with 1 Axes>"
      ]
     },
     "metadata": {
      "needs_background": "light"
     },
     "output_type": "display_data"
    }
   ],
   "source": [
    "n = 4\n",
    "N = 2**n\n",
    "epsilon = 0.4\n",
    "\n",
    "rs = []\n",
    "states = []\n",
    "es1 = []\n",
    "es2 = []\n",
    "ns = []\n",
    "\n",
    "T = getT(epsilon, N)\n",
    "R = getR(epsilon, N)\n",
    "a = 1/np.sqrt(N)\n",
    "delt = T/R\n",
    "state = init_vector(2)\n",
    "\n",
    "for r in range(0, R):\n",
    "    t = r*(T/R)\n",
    "    op = get_eH(a, delt, f(t,epsilon,N))\n",
    "    state = np.dot(op, state)\n",
    "    state = normalize_vector(state)\n",
    "    \n",
    "    rs.append(r)\n",
    "    states.append(state)\n",
    "    es1.append(getEpsilon1(state, 2)[0][0])\n",
    "    es2.append(getEpsilon2(state, problem_vector(2))[0])\n",
    "    ns.append(get_norm(state)[0][0])\n",
    "\n",
    "\n",
    "print(\"Total time T: \" +str(T))\n",
    "print(\"Total iteration R: \" +str(R))\n",
    "print(\"State: \" +str(state))\n",
    "print(\"E1: \" + str(getEpsilon1(state, 2)))\n",
    "print(\"E2: \" + str(getEpsilon2(state, problem_vector(2))))\n",
    "\n",
    "\n",
    "plt.plot(rs, es1, label=\"|||psi⟩-|m⟩||\")\n",
    "plt.plot(rs, es2, label=\"1-||⟨m|psi⟩^2||\")\n",
    "plt.xlabel(\"r\")\n",
    "plt.ylabel(\"error\")\n",
    "plt.legend()\n"
   ]
  },
  {
   "cell_type": "code",
   "execution_count": 192,
   "id": "1cb4b4c2",
   "metadata": {},
   "outputs": [
    {
     "data": {
      "text/plain": [
       "[<matplotlib.lines.Line2D at 0x1a27c3e90>]"
      ]
     },
     "execution_count": 192,
     "metadata": {},
     "output_type": "execute_result"
    },
    {
     "data": {
      "image/png": "[encoded data removed]",
      "text/plain": [
       "<Figure size 432x288 with 1 Axes>"
      ]
     },
     "metadata": {
      "needs_background": "light"
     },
     "output_type": "display_data"
    }
   ],
   "source": [
    "    # print(ns)\n",
    "plt.plot(rs, ns)"
   ]
  },
  {
   "cell_type": "markdown",
   "id": "64c346e2",
   "metadata": {},
   "source": [
    "## Simulate reduced matrix e^H"
   ]
  },
  {
   "cell_type": "code",
   "execution_count": 296,
   "id": "8ca06ffa",
   "metadata": {},
   "outputs": [
    {
     "name": "stdout",
     "output_type": "stream",
     "text": [
      "State: [[-0.173+0.596j]\n",
      " [-0.173+0.596j]]\n",
      "E1: [[1.455+0.j]]\n",
      "E2: [0.615]\n"
     ]
    }
   ],
   "source": [
    "n = 1\n",
    "N = 2**n\n",
    "\n",
    "a = 1/np.sqrt(N)\n",
    "T = np.pi/(2*a)\n",
    "R = getR(epsilon, N)\n",
    "delt = T/R\n",
    "state = init_vector(2)\n",
    "\n",
    "op = get_reduced_matrix_eH(a, delt, T)\n",
    "state = np.dot(op, state)\n",
    "\n",
    "print(\"State: \" +str(state))\n",
    "print(\"E1: \" + str(getEpsilon1(state, 2)))\n",
    "print(\"E2: \" + str(getEpsilon2(state, problem_vector(2))))"
   ]
  },
  {
   "cell_type": "code",
   "execution_count": 333,
   "id": "fb04b61e",
   "metadata": {},
   "outputs": [
    {
     "name": "stdout",
     "output_type": "stream",
     "text": [
      "[[-0.999]\n",
      " [-0.055]]\n",
      "[[0.003]]\n"
     ]
    }
   ],
   "source": [
    "import cmath\n",
    "\n",
    "def get_m(N, R):\n",
    "    m = np.matrix([[(2/N)-1,-2*(np.sqrt(N-1)/N)],\n",
    "                 [2*(np.sqrt(N-1)/N),(2/N)-1]])\n",
    "    return m**R\n",
    "\n",
    "n=4\n",
    "N = 2**n\n",
    "R = (int)(np.pi*np.sqrt(N)/4)\n",
    "m = get_m(N, R)\n",
    "res = np.dot(m, get_vp(2))\n",
    "print(res)\n",
    "print(get_Epsilon2(res, get_vp2(2)))"
   ]
  },
  {
   "cell_type": "code",
   "execution_count": 335,
   "id": "e2c46b8f",
   "metadata": {},
   "outputs": [
    {
     "name": "stdout",
     "output_type": "stream",
     "text": [
      "0.038681030273439276\n"
     ]
    }
   ],
   "source": [
    "def uniform_matrix(n):\n",
    "    N = 2**n\n",
    "    v = np.ones((N,1))*(1/np.sqrt(N))\n",
    "    m = np.matmul(v, v.T.conj())\n",
    "    return m\n",
    "\n",
    "def H1_op(delt, n):\n",
    "    N = 2**n\n",
    "    h1 = QuantumCircuit(n, name='H1')\n",
    "    H= np.zeros((N,N))\n",
    "    H[N-1][N-1] = 1\n",
    "    H = H*(-1j*delt)\n",
    "    exp_H = expm(H)\n",
    "    h1.unitary(exp_H, range(n))\n",
    "    return h1.to_gate()\n",
    "\n",
    "def H2_op(delt, n):\n",
    "    N = 2**n\n",
    "    h2 = QuantumCircuit(n, name='H2')\n",
    "    H = uniform_matrix(n)\n",
    "    H = H*(-1j*delt)\n",
    "    exp_H = expm(H)\n",
    "    h2.unitary(exp_H, range(n))\n",
    "    return h2.to_gate()\n",
    "\n",
    "sim_h = QuantumCircuit(n)\n",
    "sim_h.h(range(n))\n",
    "\n",
    "r = (int)(np.pi*np.sqrt(N)/4)\n",
    "for _ in range(r):\n",
    "    sim_h.append(H1_op(np.pi,n), range(n))\n",
    "    sim_h.append(H2_op(np.pi,n), range(n))\n",
    "    \n",
    "res = Statevector(sim_h).data\n",
    "print(get_Epsilon2(res, get_vp(N)))"
   ]
  }
 ],
 "metadata": {
  "kernelspec": {
   "display_name": "env0",
   "language": "python",
   "name": "env0"
  },
  "language_info": {
   "codemirror_mode": {
    "name": "ipython",
    "version": 3
   },
   "file_extension": ".py",
   "mimetype": "text/x-python",
   "name": "python",
   "nbconvert_exporter": "python",
   "pygments_lexer": "ipython3",
   "version": "3.11.0"
  }
 },
 "nbformat": 4,
 "nbformat_minor": 5
}
