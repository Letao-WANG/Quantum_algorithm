{
 "cells": [
  {
   "cell_type": "code",
   "execution_count": 82,
   "id": "89ccf9d2",
   "metadata": {},
   "outputs": [],
   "source": [
    "import numpy as np\n",
    "import matplotlib.pyplot as plt"
   ]
  },
  {
   "cell_type": "code",
   "execution_count": 35,
   "id": "942c0963",
   "metadata": {},
   "outputs": [
    {
     "data": {
      "text/plain": [
       "array([[0.],\n",
       "       [0.],\n",
       "       [0.],\n",
       "       [1.]])"
      ]
     },
     "execution_count": 35,
     "metadata": {},
     "output_type": "execute_result"
    }
   ],
   "source": [
    "zeros = np.zeros((4,1))\n",
    "zeros[3] = 1\n",
    "zeros"
   ]
  },
  {
   "cell_type": "code",
   "execution_count": null,
   "id": "b4df99e9",
   "metadata": {},
   "outputs": [],
   "source": []
  },
  {
   "cell_type": "code",
   "execution_count": 83,
   "id": "77db2a58",
   "metadata": {},
   "outputs": [],
   "source": [
    "def init_H0(N):\n",
    "    return np.identity(N)-(1/N)*np.ones((N,N))"
   ]
  },
  {
   "cell_type": "code",
   "execution_count": 101,
   "id": "a9e85b4b",
   "metadata": {},
   "outputs": [
    {
     "data": {
      "text/plain": [
       "array([[ 0.75, -0.25, -0.25, -0.25],\n",
       "       [-0.25,  0.75, -0.25, -0.25],\n",
       "       [-0.25, -0.25,  0.75, -0.25],\n",
       "       [-0.25, -0.25, -0.25,  0.75]])"
      ]
     },
     "execution_count": 101,
     "metadata": {},
     "output_type": "execute_result"
    }
   ],
   "source": [
    "init_H0(4)"
   ]
  },
  {
   "cell_type": "code",
   "execution_count": 102,
   "id": "b9634b6c",
   "metadata": {},
   "outputs": [],
   "source": [
    "def init_Hm(N,m):\n",
    "#     vector_m = np.zeros((N,1))\n",
    "    vector_m = np.identity(N)\n",
    "    vector_m[m,m] = 0\n",
    "    return vector_m\n",
    "#     return np.kron(vector_m, vector_m.T)"
   ]
  },
  {
   "cell_type": "code",
   "execution_count": 104,
   "id": "9d05db7f",
   "metadata": {},
   "outputs": [
    {
     "data": {
      "text/plain": [
       "array([[1., 0., 0., 0.],\n",
       "       [0., 0., 0., 0.],\n",
       "       [0., 0., 1., 0.],\n",
       "       [0., 0., 0., 1.]])"
      ]
     },
     "execution_count": 104,
     "metadata": {},
     "output_type": "execute_result"
    }
   ],
   "source": [
    "init_Hm(4,1)"
   ]
  },
  {
   "cell_type": "code",
   "execution_count": 278,
   "id": "f9a7fd13",
   "metadata": {},
   "outputs": [
    {
     "name": "stdout",
     "output_type": "stream",
     "text": [
      "[[ 1.   -0.    1.    1.  ]\n",
      " [ 0.02  1.    0.98  1.  ]\n",
      " [ 0.05  1.    0.95  1.  ]\n",
      " [ 0.07  1.    0.93  1.  ]\n",
      " [ 0.1   1.    0.9   1.  ]\n",
      " [ 0.12  1.    0.88  1.  ]\n",
      " [ 0.14  1.    0.86  1.  ]\n",
      " [ 0.16  1.    0.84  1.  ]\n",
      " [ 0.18  1.    0.82  1.  ]\n",
      " [ 0.2   1.    0.8   1.  ]\n",
      " [ 0.21  1.    0.79  1.  ]\n",
      " [ 0.22  1.    0.78  1.  ]\n",
      " [ 0.24  1.    0.76  1.  ]\n",
      " [ 0.24  1.    0.76  1.  ]\n",
      " [ 0.25  1.    0.75  1.  ]\n",
      " [ 0.25  1.    0.75  1.  ]\n",
      " [ 0.25  1.    0.75  1.  ]\n",
      " [ 0.24  1.    0.76  1.  ]\n",
      " [ 0.24  1.    0.76  1.  ]\n",
      " [ 0.22  1.    0.78  1.  ]\n",
      " [ 0.21  1.    0.79  1.  ]\n",
      " [ 1.    0.8   0.2   1.  ]\n",
      " [ 1.    0.82  0.18  1.  ]\n",
      " [ 1.    0.84  0.16  1.  ]\n",
      " [ 1.    0.86  0.14  1.  ]\n",
      " [ 1.    0.88  0.12  1.  ]\n",
      " [ 1.    0.9   0.1   1.  ]\n",
      " [ 1.    0.93  0.07  1.  ]\n",
      " [ 1.    0.95  0.05  1.  ]\n",
      " [ 1.    0.98  0.02  1.  ]\n",
      " [ 1.    0.    1.    1.  ]]\n"
     ]
    }
   ],
   "source": [
    "T = 30\n",
    "N = 4\n",
    "m = 1\n",
    "\n",
    "H0 = init_H0(N)\n",
    "Hm = init_Hm(N,m)\n",
    "\n",
    "eigenvalues = []\n",
    "for t in range(0, T+1):\n",
    "    s = t/T\n",
    "    H_tilde = (1-s)*H0 + s*Hm\n",
    "#     eigenvalues.append(np.linalg.eigvals(H_tilde.astype(np.complex128)))\n",
    "    eigenvalues.append(np.linalg.eigvals(H_tilde.astype(np.float32)))\n",
    "    \n",
    "eigenvalues = np.array(eigenvalues)\n",
    "np.set_printoptions(precision=2, suppress=True)\n",
    "print(eigenvalues)"
   ]
  },
  {
   "cell_type": "code",
   "execution_count": 245,
   "id": "24c5a5fa",
   "metadata": {},
   "outputs": [
    {
     "ename": "AttributeError",
     "evalue": "'list' object has no attribute 'ndim'",
     "output_type": "error",
     "traceback": [
      "\u001B[0;31m---------------------------------------------------------------------------\u001B[0m",
      "\u001B[0;31mAttributeError\u001B[0m                            Traceback (most recent call last)",
      "Cell \u001B[0;32mIn[245], line 4\u001B[0m\n\u001B[1;32m      1\u001B[0m min_indices \u001B[38;5;241m=\u001B[39m np\u001B[38;5;241m.\u001B[39margpartition(eigenvalues, kth\u001B[38;5;241m=\u001B[39m(\u001B[38;5;241m1\u001B[39m, \u001B[38;5;241m2\u001B[39m), axis\u001B[38;5;241m=\u001B[39m\u001B[38;5;241m1\u001B[39m)[:, :\u001B[38;5;241m2\u001B[39m]\n\u001B[1;32m      3\u001B[0m \u001B[38;5;66;03m# Use the indices to extract the corresponding eigenvalues\u001B[39;00m\n\u001B[0;32m----> 4\u001B[0m min_eigenvalues \u001B[38;5;241m=\u001B[39m np\u001B[38;5;241m.\u001B[39mtake_along_axis(eigenvalues, min_indices, axis\u001B[38;5;241m=\u001B[39m\u001B[38;5;241m1\u001B[39m)\n\u001B[1;32m      6\u001B[0m \u001B[38;5;66;03m# Print the results\u001B[39;00m\n\u001B[1;32m      7\u001B[0m \u001B[38;5;28mprint\u001B[39m(\u001B[38;5;124m\"\u001B[39m\u001B[38;5;124mFirst and second minimum eigenvalues for every row:\u001B[39m\u001B[38;5;124m\"\u001B[39m)\n",
      "File \u001B[0;32m<__array_function__ internals>:180\u001B[0m, in \u001B[0;36mtake_along_axis\u001B[0;34m(*args, **kwargs)\u001B[0m\n",
      "File \u001B[0;32m~/anaconda3/envs/env0/lib/python3.11/site-packages/numpy/lib/shape_base.py:166\u001B[0m, in \u001B[0;36mtake_along_axis\u001B[0;34m(arr, indices, axis)\u001B[0m\n\u001B[1;32m    164\u001B[0m     axis \u001B[38;5;241m=\u001B[39m \u001B[38;5;241m0\u001B[39m\n\u001B[1;32m    165\u001B[0m \u001B[38;5;28;01melse\u001B[39;00m:\n\u001B[0;32m--> 166\u001B[0m     axis \u001B[38;5;241m=\u001B[39m normalize_axis_index(axis, arr\u001B[38;5;241m.\u001B[39mndim)\n\u001B[1;32m    167\u001B[0m     arr_shape \u001B[38;5;241m=\u001B[39m arr\u001B[38;5;241m.\u001B[39mshape\n\u001B[1;32m    169\u001B[0m \u001B[38;5;66;03m# use the fancy index\u001B[39;00m\n",
      "\u001B[0;31mAttributeError\u001B[0m: 'list' object has no attribute 'ndim'"
     ]
    }
   ],
   "source": [
    "min_indices = np.argpartition(eigenvalues, kth=(1, 2), axis=1)[:, :2]\n",
    "\n",
    "# Use the indices to extract the corresponding eigenvalues\n",
    "min_eigenvalues = np.take_along_axis(eigenvalues, min_indices, axis=1)\n",
    "\n",
    "# Print the results\n",
    "print(\"First and second minimum eigenvalues for every row:\")\n",
    "print(min_eigenvalues[0,1])"
   ]
  },
  {
   "cell_type": "code",
   "execution_count": 280,
   "id": "d3cb908b",
   "metadata": {},
   "outputs": [
    {
     "data": {
      "image/png": "[encoded data removed]",
      "text/plain": [
       "<Figure size 432x288 with 1 Axes>"
      ]
     },
     "metadata": {
      "needs_background": "light"
     },
     "output_type": "display_data"
    }
   ],
   "source": [
    "\n",
    "# for i in range(N):\n",
    "#     plt.plot(eigenvalues[:,i])\n",
    "    \n",
    "\n",
    "x1_points = []\n",
    "y1_points = []\n",
    "for t in range(0, (int)(T)):\n",
    "    if t < 30:\n",
    "        x1_points.append(t)\n",
    "        y1_points.append(min(eigenvalues[t,:]))\n",
    "#         y1_points.append(min_eigenvalues[t,:])\n",
    "# plt.plot(x1_points, y1_points)\n",
    "\n",
    "plt.scatter(x1_points, y1_points)\n",
    "\n",
    "# x1_points = []\n",
    "# y1_points = []\n",
    "# for t in range(1, T-1):\n",
    "#     x1_points.append(t)\n",
    "#     y1_points.append(min(eigenvalues[t,:]))\n",
    "# plt.plot(x1_points, y1_points)\n",
    "\n",
    "# x2_points = []\n",
    "# y2_points = []\n",
    "# for t in range(1, T-1):\n",
    "#     x2_points.append(t)\n",
    "#     y2_points.append(max(eigenvalues[t,:]))\n",
    "# plt.plot(x2_points, y2_points)\n",
    "\n",
    "plt.title(\"Eigenvalue Graph of H_tilde\")\n",
    "plt.xlabel(\"Time\")\n",
    "plt.ylabel(\"Eigenvalues\")\n",
    "plt.show()"
   ]
  },
  {
   "cell_type": "code",
   "execution_count": 290,
   "id": "8afe049b",
   "metadata": {},
   "outputs": [
    {
     "name": "stdout",
     "output_type": "stream",
     "text": [
      "The result is: 5.455945569464067\n"
     ]
    }
   ],
   "source": [
    "from scipy.integrate import quad\n",
    "from numpy import sqrt\n",
    "\n",
    "def integrand(f, a):\n",
    "    return 1 / (1 - 4 * f * (1 - f) * (1 - a**2))**(3/4)\n",
    "\n",
    "N = 64\n",
    "a = 1 / sqrt(N)\n",
    "\n",
    "alpha, error = quad(integrand, 0, 1, args=(a,))\n",
    "print(\"The result is:\", alpha)\n"
   ]
  },
  {
   "cell_type": "code",
   "execution_count": 154,
   "id": "d2a64881",
   "metadata": {},
   "outputs": [
    {
     "data": {
      "image/png": "[encoded data removed]",
      "text/plain": [
       "<Figure size 432x288 with 1 Axes>"
      ]
     },
     "metadata": {
      "needs_background": "light"
     },
     "output_type": "display_data"
    }
   ],
   "source": [
    "import numpy as np\n",
    "import matplotlib.pyplot as plt\n",
    "\n",
    "N = 64  # set the value of N\n",
    "a = 1 / np.sqrt(N)  # calculate a\n",
    "\n",
    "# define the function Delta(f)\n",
    "def Delta(s,a):\n",
    "#     return np.sqrt(1 - 4*f*(1-f)*(1-a**2))\n",
    "    return np.sqrt(-4*a**2*s**2+4*a**2*s+4*s**2-4*s+1)\n",
    "\n",
    "# create an array of values for f\n",
    "f_vals = np.linspace(0, 1, 1000)\n",
    "\n",
    "# evaluate Delta(f) for each value of f\n",
    "Delta_vals = Delta(f_vals,a)\n",
    "\n",
    "# plot Delta(f)\n",
    "plt.plot(f_vals, Delta_vals)\n",
    "plt.xlabel('f')\n",
    "plt.ylabel('Delta(f)')\n",
    "plt.title('Graph of Delta(f)')\n",
    "plt.show()"
   ]
  },
  {
   "cell_type": "code",
   "execution_count": 87,
   "id": "ecf9c581",
   "metadata": {},
   "outputs": [],
   "source": [
    "# import numpy as np\n",
    "# import matplotlib.pyplot as plt\n",
    "\n",
    "# # define the derivative of g\n",
    "# def df(s):\n",
    "#     return 2*s\n",
    "\n",
    "# # create an array of values for s\n",
    "# s_vals = np.linspace(0, 50, 100)\n",
    "\n",
    "# # calculate the values of the derivative dg\n",
    "# df_vals = df(s_vals)\n",
    "\n",
    "# # find the antiderivative of dg using numerical integration\n",
    "# f_vals = np.cumsum(df_vals) * (s_vals[1] - s_vals[0])\n",
    "\n",
    "# # plot the graph of g\n",
    "# plt.plot(s_vals, f_vals)\n",
    "# plt.xlabel('s')\n",
    "# plt.ylabel('f(s)')\n",
    "# plt.title('Graph of the Original Function f')\n",
    "# plt.show()\n"
   ]
  },
  {
   "cell_type": "code",
   "execution_count": 1,
   "id": "58106aff",
   "metadata": {},
   "outputs": [
    {
     "data": {
      "text/plain": "<Figure size 432x288 with 1 Axes>",
      "image/png": "[encoded data removed]"
     },
     "metadata": {
      "needs_background": "light"
     },
     "output_type": "display_data"
    }
   ],
   "source": [
    "import numpy as np\n",
    "from scipy.integrate import quad\n",
    "import matplotlib.pyplot as plt\n",
    "\n",
    "p = 2\n",
    "N = 64\n",
    "a = 1 / np.sqrt(N)\n",
    "\n",
    "def Delta(s,a):\n",
    "    return np.sqrt(-4*a**2*s**2+4*a**2*s+4*s**2-4*s+1)\n",
    "\n",
    "def integrand(f, a):\n",
    "    return 1 / (1 - 4 * f * (1 - f) * (1 - a**2))**(p/2)\n",
    "\n",
    "alpha, error = quad(integrand, 0, 1, args=(a,))\n",
    "\n",
    "alpha = 0.1\n",
    "\n",
    "# define the derivative of g\n",
    "def df(s, a, alpha):\n",
    "    delta = Delta(s,a)\n",
    "    return alpha * delta**(p)\n",
    "\n",
    "# create an array of values for s\n",
    "s_vals = np.linspace(0, 1, 1000)\n",
    "\n",
    "# calculate the values of the derivative df\n",
    "df_vals = df(s_vals, a, alpha)\n",
    "\n",
    "# find the antiderivative of dg using numerical integration\n",
    "f_vals = np.cumsum(df_vals) * (s_vals[1] - s_vals[0])\n",
    "\n",
    "# plot the graph of g\n",
    "plt.plot(s_vals, f_vals)\n",
    "plt.xlabel('s')\n",
    "plt.ylabel('f(s)')\n",
    "plt.title('Graph of the Original Function f')\n",
    "plt.show()\n"
   ]
  },
  {
   "cell_type": "code",
   "execution_count": 294,
   "id": "b99bea10",
   "metadata": {},
   "outputs": [
    {
     "data": {
      "image/png": "[encoded data removed]",
      "text/plain": [
       "<Figure size 432x288 with 1 Axes>"
      ]
     },
     "metadata": {
      "needs_background": "light"
     },
     "output_type": "display_data"
    }
   ],
   "source": [
    "import numpy as np\n",
    "import matplotlib.pyplot as plt\n",
    "\n",
    "# Define the parameters\n",
    "N = 64\n",
    "epsilon = alpha\n",
    "\n",
    "# Define the function\n",
    "def s(t):\n",
    "    arg = (2*epsilon*np.sqrt(N-1)*t - N*np.arctan(np.sqrt(N-1))) / N\n",
    "    num = np.sqrt(N-1) * np.tan(arg)\n",
    "    den = 1 - N\n",
    "    return 0.5 * (1 - num / den)\n",
    "\n",
    "# Define the range of t values to plot\n",
    "t_vals = np.linspace(0, 3, 1000)\n",
    "\n",
    "# Generate the plot\n",
    "plt.plot(t_vals, s(t_vals))\n",
    "plt.xlabel('t')\n",
    "plt.ylabel('s')\n",
    "plt.ylim([0, 1])\n",
    "plt.title('Graph of s(t)')\n",
    "plt.show()\n"
   ]
  },
  {
   "cell_type": "code",
   "execution_count": 16,
   "id": "666cc737",
   "metadata": {},
   "outputs": [
    {
     "name": "stdout",
     "output_type": "stream",
     "text": [
      "The result is: 11.655162414955427\n"
     ]
    }
   ],
   "source": [
    "from scipy.integrate import quad\n",
    "from numpy import sqrt\n",
    "\n",
    "def integrand(f, a):\n",
    "    return 1 / (1 - 4 * f * (1 - f) * (1 - a**2))\n",
    "\n",
    "N = 64\n",
    "a = 1 / sqrt(N)\n",
    "\n",
    "alpha, error = quad(integrand, 0, 1, args=(a,))\n",
    "print(\"The result is:\", alpha)\n"
   ]
  },
  {
   "cell_type": "code",
   "execution_count": 19,
   "id": "a26836e2",
   "metadata": {},
   "outputs": [
    {
     "data": {
      "image/png": "[encoded data removed]",
      "text/plain": [
       "<Figure size 432x288 with 1 Axes>"
      ]
     },
     "metadata": {
      "needs_background": "light"
     },
     "output_type": "display_data"
    }
   ],
   "source": [
    "import numpy as np\n",
    "import matplotlib.pyplot as plt\n",
    "\n",
    "# Define the parameters\n",
    "N = 64\n",
    "epsilon = alpha\n",
    "# epsilon = 0.1\n",
    "\n",
    "# Define the function\n",
    "def s(t):\n",
    "    arg = ((2*epsilon*np.sqrt(N-1)*t)/N - np.arctan(np.sqrt(N-1)))\n",
    "    num = np.tan(arg) / np.sqrt(N-1)\n",
    "    den = 1 + num\n",
    "    return 0.5 * den\n",
    "\n",
    "\n",
    "T=(np.pi/(2*epsilon))*np.sqrt(N)\n",
    "# Define the range of t values to plot\n",
    "t_vals = np.linspace(0, T, 100)\n",
    "\n",
    "# Generate the plot\n",
    "plt.plot(t_vals, s(t_vals))\n",
    "plt.xlabel('t')\n",
    "plt.ylabel('s')\n",
    "plt.ylim([0, 1])\n",
    "plt.title('Graph of s(t)')\n",
    "plt.show()\n"
   ]
  },
  {
   "cell_type": "code",
   "execution_count": 9,
   "id": "13fdaf1f",
   "metadata": {},
   "outputs": [
    {
     "data": {
      "image/png": "[encoded data removed]",
      "text/plain": [
       "<Figure size 432x288 with 1 Axes>"
      ]
     },
     "metadata": {
      "needs_background": "light"
     },
     "output_type": "display_data"
    }
   ],
   "source": [
    "import numpy as np\n",
    "import matplotlib.pyplot as plt\n",
    "\n",
    "def t(s, N, p, epsilon):\n",
    "    return 1/epsilon * np.trapz(1/(1-4*(N-1)*s*(1-s)/N)**(p/2), s)\n",
    "\n",
    "# Generate a set of s values\n",
    "s_values = np.linspace(0, 1, 1000)\n",
    "\n",
    "# Set the values of N, p, and epsilon\n",
    "N = 64\n",
    "p = 1\n",
    "epsilon = 0.01\n",
    "\n",
    "# Calculate the corresponding values of t(s)\n",
    "t_values = np.array([t(s_values[:i], N, p, epsilon) for i in range(1, len(s_values)+1)])\n",
    "\n",
    "# Plot the graph of t(s)\n",
    "# plt.plot(s_values, t_values)\n",
    "plt.plot(t_values, s_values)\n",
    "plt.xlabel('s')\n",
    "plt.ylabel('t(s)')\n",
    "plt.title('Graph of t(s)')\n",
    "plt.show()\n"
   ]
  },
  {
   "cell_type": "code",
   "execution_count": 50,
   "id": "0ad7cd05",
   "metadata": {},
   "outputs": [
    {
     "data": {
      "image/png": "[encoded data removed]",
      "text/plain": [
       "<Figure size 432x288 with 1 Axes>"
      ]
     },
     "metadata": {
      "needs_background": "light"
     },
     "output_type": "display_data"
    }
   ],
   "source": [
    "import numpy as np\n",
    "import matplotlib.pyplot as plt\n",
    "from scipy.integrate import quad\n",
    "\n",
    "N = 64\n",
    "p = 3/2\n",
    "epsilon = 1\n",
    "a = 1 / np.sqrt(N)\n",
    "\n",
    "def Delta(s,a):\n",
    "    return np.sqrt(-4*a**2*s**2+4*a**2*s+4*s**2-4*s+1)\n",
    "\n",
    "def alpha_integrand(f, a):\n",
    "    return 1 / (1 - 4 * f * (1 - f) * (1 - a**2))**(p/2)\n",
    "\n",
    "alpha, error = quad(alpha_integrand, 0, 1, args=(a,))\n",
    "\n",
    "# Define the integrand function\n",
    "def t_integrand(s, N, p):\n",
    "    return 1 / (1 - (4 * (N - 1) * s * (1 - s)) / N)**(p / 2)\n",
    "\n",
    "# Define the function t(s) with numerical integration\n",
    "def t(s, N, p, epsilon):\n",
    "    integral, _ = quad(t_integrand, 0, s, args=(N, p))\n",
    "    return integral / epsilon\n",
    "\n",
    "\n",
    "# Create an array of s values between 0 and 1\n",
    "s_values = np.linspace(0, 1, 1000)\n",
    "\n",
    "alpha = epsilon\n",
    "# Calculate the corresponding t(s) values\n",
    "t_values = np.array([t(s, N, p, alpha) for s in s_values])\n",
    "\n",
    "# Create a plot\n",
    "plt.plot(t_values, s_values)\n",
    "plt.xlabel('t')\n",
    "plt.ylabel('s')\n",
    "plt.title('Graph of t(s)')\n",
    "\n",
    "# Show the plot\n",
    "plt.show()\n"
   ]
  },
  {
   "cell_type": "code",
   "execution_count": 18,
   "id": "29f2ad02",
   "metadata": {},
   "outputs": [],
   "source": [
    "# import numpy as np\n",
    "# import matplotlib.pyplot as plt\n",
    "\n",
    "# # Define the Hamiltonian matrix H(t) and the constant a\n",
    "# N = 64\n",
    "# a = 1 / sqrt(N)\n",
    "\n",
    "# def H(s):\n",
    "#     return np.array([[s, (s-1)*a],\n",
    "#                      [-s*a, 1-s]])\n",
    "\n",
    "# # Calculate the eigenvectors and eigenvalues of H(t)\n",
    "# eigvals, eigvecs = np.linalg.eig(H(0))\n",
    "# E0 = eigvecs[:, np.argmin(eigvals)]\n",
    "# eigvals, eigvecs = np.linalg.eig(H(1))\n",
    "# E1 = eigvecs[:, np.argmin(eigvals)]\n",
    "\n",
    "# # Define a function to calculate the derivative of H(t)\n",
    "# def dHdt(t):\n",
    "#     return np.array([[1, a],\n",
    "#                      [-a, -1]])\n",
    "\n",
    "# # Define a function to calculate the desired inner product\n",
    "# def inner_prod(s):\n",
    "#     dH = dHdt(s)  \n",
    "    \n",
    "#     eigvals, eigvecs = np.linalg.eig(H(s))\n",
    "\n",
    "#     # Find the index of the second minimum eigenvalue\n",
    "#     idx0 = np.argsort(eigvals)[0]\n",
    "#     idx1 = np.argsort(eigvals)[1]\n",
    "\n",
    "#     # Extract the eigenvector corresponding to the second minimum eigenvalue\n",
    "#     E0 = eigvecs[:, idx0]\n",
    "# #     E1 = eigvecs[:, idx1]\n",
    "\n",
    "#     return np.dot(np.conj(E1), np.dot(dH, E0))\n",
    "\n",
    "# # Generate an array of values for t\n",
    "# s_vals = np.linspace(0, 1, 100)\n",
    "\n",
    "# # Calculate the inner product for each value of t\n",
    "# inner_vals = np.array([inner_prod(s) for s in s_vals])\n",
    "\n",
    "# # Plot the inner product as a function of t\n",
    "# plt.plot(s_vals, inner_vals)\n",
    "# plt.xlabel('s')\n",
    "# plt.ylabel(r'$\\langle E_1 | \\frac{dH}{dt} | E_0 \\rangle$')\n",
    "# plt.show()\n",
    "\n"
   ]
  },
  {
   "cell_type": "code",
   "execution_count": 19,
   "id": "c336a519",
   "metadata": {},
   "outputs": [],
   "source": [
    "# import numpy as np\n",
    "# import matplotlib.pyplot as plt\n",
    "\n",
    "# # Define the Hamiltonian matrix H(t) and the constant a\n",
    "# N = 4\n",
    "# a = 1 / sqrt(N)\n",
    "# def H(t):\n",
    "#     return np.array([[t, (t-1)*a],\n",
    "#                      [-t*a, 1-t]])\n",
    "\n",
    "# # Calculate the eigenvalues of H(t)\n",
    "# eigvals = np.array([sorted(np.linalg.eigvals(H(t)))[0:2] for t in np.linspace(0, 1, 100)])\n",
    "\n",
    "# # Plot the eigenvalues as a function of t\n",
    "# plt.plot(np.linspace(0, 1, 100), eigvals[:, 0], label='First minimum eigenvalue')\n",
    "# plt.plot(np.linspace(0, 1, 100), eigvals[:, 1], label='Second minimum eigenvalue')\n",
    "# plt.legend()\n",
    "# plt.xlabel('t')\n",
    "# plt.ylabel('Eigenvalues')\n",
    "# plt.show()\n"
   ]
  },
  {
   "cell_type": "code",
   "execution_count": 20,
   "id": "7a4e04a7",
   "metadata": {},
   "outputs": [],
   "source": [
    "# import numpy as np\n",
    "# import matplotlib.pyplot as plt\n",
    "\n",
    "# N = 4\n",
    "# a = 1 / sqrt(N)\n",
    "\n",
    "# # Define the function f(s)\n",
    "# def f(s, a):\n",
    "#     X = (-1 + 2*s - np.sqrt(1 - 4*s + 4*a**2*s + 4*s**2 - 4*a**2*s**2)) / (2*a*s)\n",
    "#     return X**2 + 2*a*X - 1\n",
    "\n",
    "# # Generate an array of values for s\n",
    "# s_vals = np.linspace(0.1, 1, 100)\n",
    "\n",
    "# # Calculate the function values for each value of s\n",
    "# f_vals = np.array([f(s, a) for s in s_vals])\n",
    "\n",
    "# # Plot the function as a function of s\n",
    "# plt.plot(s_vals, f_vals)\n",
    "# plt.xlabel('s')\n",
    "# plt.ylabel('f(s)')\n",
    "# plt.show()\n"
   ]
  }
 ],
 "metadata": {
  "kernelspec": {
   "display_name": "env0",
   "language": "python",
   "name": "env0"
  },
  "language_info": {
   "codemirror_mode": {
    "name": "ipython",
    "version": 3
   },
   "file_extension": ".py",
   "mimetype": "text/x-python",
   "name": "python",
   "nbconvert_exporter": "python",
   "pygments_lexer": "ipython3",
   "version": "3.11.0"
  }
 },
 "nbformat": 4,
 "nbformat_minor": 5
}
