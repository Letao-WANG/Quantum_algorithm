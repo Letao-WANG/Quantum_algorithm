{
 "cells": [
  {
   "cell_type": "code",
   "execution_count": 16,
   "id": "8bdab380",
   "metadata": {},
   "outputs": [],
   "source": [
    "#initialization\n",
    "import matplotlib.pyplot as plt\n",
    "import numpy as np\n",
    "\n",
    "# importing Qiskit\n",
    "from qiskit import IBMQ, Aer, assemble, transpile\n",
    "from qiskit import QuantumCircuit, ClassicalRegister, QuantumRegister\n",
    "from qiskit.providers.ibmq import least_busy\n",
    "\n",
    "# import basic plot tools\n",
    "from qiskit.visualization import plot_histogram"
   ]
  },
  {
   "cell_type": "code",
   "execution_count": 60,
   "id": "a46d0e49",
   "metadata": {},
   "outputs": [],
   "source": [
    "n = 2\n",
    "grover_circuit = QuantumCircuit(n)"
   ]
  },
  {
   "cell_type": "code",
   "execution_count": 6,
   "id": "ae981ea2",
   "metadata": {},
   "outputs": [],
   "source": [
    "def initialize_s(qc, qubits):\n",
    "    \"\"\"Apply a H-gate to 'qubits' in qc\"\"\"\n",
    "    for q in qubits:\n",
    "        qc.h(q)\n",
    "    return qc"
   ]
  },
  {
   "cell_type": "code",
   "execution_count": 56,
   "id": "74915ddf",
   "metadata": {},
   "outputs": [],
   "source": [
    "def measure(circuit):\n",
    "    backend = Aer.get_backend('statevector_simulator')\n",
    "    job = execute(circuit, backend=backend, shots=1, memory=True)\n",
    "    return dict(job.result().get_counts(grover_circuit))"
   ]
  },
  {
   "cell_type": "code",
   "execution_count": 61,
   "id": "36f3f063",
   "metadata": {},
   "outputs": [],
   "source": [
    "grover_circuit = initialize_s(grover_circuit, [0,1])"
   ]
  },
  {
   "cell_type": "code",
   "execution_count": 62,
   "id": "28e8f3bf",
   "metadata": {},
   "outputs": [
    {
     "data": {
      "text/html": [
       "<pre style=\"word-wrap: normal;white-space: pre;background: #fff0;line-height: 1.1;font-family: &quot;Courier New&quot;,Courier,monospace\">     ┌───┐\n",
       "q_0: ┤ H ├\n",
       "     ├───┤\n",
       "q_1: ┤ H ├\n",
       "     └───┘</pre>"
      ],
      "text/plain": [
       "     ┌───┐\n",
       "q_0: ┤ H ├\n",
       "     ├───┤\n",
       "q_1: ┤ H ├\n",
       "     └───┘"
      ]
     },
     "execution_count": 62,
     "metadata": {},
     "output_type": "execute_result"
    }
   ],
   "source": [
    "grover_circuit.draw()"
   ]
  },
  {
   "cell_type": "code",
   "execution_count": 63,
   "id": "afedb9b0",
   "metadata": {},
   "outputs": [
    {
     "data": {
      "text/plain": [
       "{'00': 0.25, '01': 0.25, '10': 0.25, '11': 0.25}"
      ]
     },
     "execution_count": 63,
     "metadata": {},
     "output_type": "execute_result"
    }
   ],
   "source": [
    "measure(grover_circuit)"
   ]
  },
  {
   "cell_type": "code",
   "execution_count": 64,
   "id": "e9343639",
   "metadata": {},
   "outputs": [
    {
     "data": {
      "text/html": [
       "<pre style=\"word-wrap: normal;white-space: pre;background: #fff0;line-height: 1.1;font-family: &quot;Courier New&quot;,Courier,monospace\">     ┌───┐   \n",
       "q_0: ┤ H ├─■─\n",
       "     ├───┤ │ \n",
       "q_1: ┤ H ├─■─\n",
       "     └───┘   </pre>"
      ],
      "text/plain": [
       "     ┌───┐   \n",
       "q_0: ┤ H ├─■─\n",
       "     ├───┤ │ \n",
       "q_1: ┤ H ├─■─\n",
       "     └───┘   "
      ]
     },
     "execution_count": 64,
     "metadata": {},
     "output_type": "execute_result"
    }
   ],
   "source": [
    "grover_circuit.cz(0,1) # Oracle\n",
    "grover_circuit.draw()"
   ]
  },
  {
   "cell_type": "code",
   "execution_count": 65,
   "id": "5539296c",
   "metadata": {},
   "outputs": [
    {
     "data": {
      "text/plain": [
       "{'00': 0.25, '01': 0.25, '10': 0.25, '11': 0.25}"
      ]
     },
     "execution_count": 65,
     "metadata": {},
     "output_type": "execute_result"
    }
   ],
   "source": [
    "measure(grover_circuit)"
   ]
  },
  {
   "cell_type": "code",
   "execution_count": 66,
   "id": "f2f9dc01",
   "metadata": {},
   "outputs": [
    {
     "data": {
      "text/html": [
       "<pre style=\"word-wrap: normal;white-space: pre;background: #fff0;line-height: 1.1;font-family: &quot;Courier New&quot;,Courier,monospace\">     ┌───┐   ┌───┐┌───┐   ┌───┐\n",
       "q_0: ┤ H ├─■─┤ H ├┤ Z ├─■─┤ H ├\n",
       "     ├───┤ │ ├───┤├───┤ │ ├───┤\n",
       "q_1: ┤ H ├─■─┤ H ├┤ Z ├─■─┤ H ├\n",
       "     └───┘   └───┘└───┘   └───┘</pre>"
      ],
      "text/plain": [
       "     ┌───┐   ┌───┐┌───┐   ┌───┐\n",
       "q_0: ┤ H ├─■─┤ H ├┤ Z ├─■─┤ H ├\n",
       "     ├───┤ │ ├───┤├───┤ │ ├───┤\n",
       "q_1: ┤ H ├─■─┤ H ├┤ Z ├─■─┤ H ├\n",
       "     └───┘   └───┘└───┘   └───┘"
      ]
     },
     "execution_count": 66,
     "metadata": {},
     "output_type": "execute_result"
    }
   ],
   "source": [
    "# Diffusion operator (U_s)\n",
    "grover_circuit.h([0,1])\n",
    "grover_circuit.z([0,1])\n",
    "grover_circuit.cz(0,1)\n",
    "grover_circuit.h([0,1])\n",
    "grover_circuit.draw()"
   ]
  },
  {
   "cell_type": "code",
   "execution_count": 67,
   "id": "5323ceba",
   "metadata": {},
   "outputs": [
    {
     "data": {
      "text/plain": [
       "{'11': 1.0}"
      ]
     },
     "execution_count": 67,
     "metadata": {},
     "output_type": "execute_result"
    }
   ],
   "source": [
    "measure(grover_circuit)"
   ]
  },
  {
   "cell_type": "code",
   "execution_count": 51,
   "id": "320c861d",
   "metadata": {},
   "outputs": [
    {
     "data": {
      "text/plain": [
       "{'11': 1}"
      ]
     },
     "execution_count": 51,
     "metadata": {},
     "output_type": "execute_result"
    }
   ],
   "source": [
    "dict(measure(grover_circuit).get_counts(grover_circuit))"
   ]
  },
  {
   "cell_type": "code",
   "execution_count": 49,
   "id": "b6321ba7",
   "metadata": {},
   "outputs": [
    {
     "data": {
      "image/png": "[encoded data removed]",
      "text/plain": [
       "<Figure size 504x360 with 1 Axes>"
      ]
     },
     "execution_count": 49,
     "metadata": {},
     "output_type": "execute_result"
    }
   ],
   "source": [
    "counts = measure(grover_circuit).get_counts(grover_circuit)\n",
    "plot_histogram(counts)"
   ]
  },
  {
   "cell_type": "code",
   "execution_count": null,
   "id": "d0047da9",
   "metadata": {},
   "outputs": [],
   "source": []
  },
  {
   "cell_type": "code",
   "execution_count": null,
   "id": "7fae6dc9",
   "metadata": {},
   "outputs": [],
   "source": []
  }
 ],
 "metadata": {
  "kernelspec": {
   "display_name": "env0",
   "language": "python",
   "name": "env0"
  },
  "language_info": {
   "codemirror_mode": {
    "name": "ipython",
    "version": 3
   },
   "file_extension": ".py",
   "mimetype": "text/x-python",
   "name": "python",
   "nbconvert_exporter": "python",
   "pygments_lexer": "ipython3",
   "version": "3.11.0"
  }
 },
 "nbformat": 4,
 "nbformat_minor": 5
}
